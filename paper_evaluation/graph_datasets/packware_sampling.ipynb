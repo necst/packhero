{
 "cells": [
  {
   "cell_type": "markdown",
   "metadata": {},
   "source": [
    "# Packware dataset analysis and selection"
   ]
  },
  {
   "cell_type": "code",
   "execution_count": 1,
   "metadata": {},
   "outputs": [],
   "source": [
    "import numpy as np\n",
    "import pandas as pd\n",
    "\n",
    "df = pd.read_pickle(\"path/to/wildlab.pickle\")"
   ]
  },
  {
   "cell_type": "code",
   "execution_count": 2,
   "metadata": {},
   "outputs": [],
   "source": [
    "# Number of elements in the lab dataset\n",
    "df = df.loc[df['source'].isin(['lab-v3'])]"
   ]
  },
  {
   "cell_type": "code",
   "execution_count": 3,
   "metadata": {},
   "outputs": [
    {
     "data": {
      "text/plain": [
       "lab-v3    290721\n",
       "Name: source, dtype: int64"
      ]
     },
     "execution_count": 3,
     "metadata": {},
     "output_type": "execute_result"
    }
   ],
   "source": [
    "df['source'].value_counts()"
   ]
  },
  {
   "cell_type": "markdown",
   "metadata": {},
   "source": [
    "To verify that the lab dataset is effectively composed by all packed samples we count also values of the df filtered by packed field"
   ]
  },
  {
   "cell_type": "code",
   "execution_count": 4,
   "metadata": {},
   "outputs": [
    {
     "data": {
      "text/plain": [
       "lab-v3    290721\n",
       "Name: source, dtype: int64"
      ]
     },
     "execution_count": 4,
     "metadata": {},
     "output_type": "execute_result"
    }
   ],
   "source": [
    "# Number of elements in the lab dataset that are packed)\n",
    "df[df['packed'] == True]['source'].value_counts()"
   ]
  },
  {
   "cell_type": "code",
   "execution_count": 5,
   "metadata": {},
   "outputs": [],
   "source": [
    "# Let's filter the dataframe to the columns we need\n",
    "df = df[['unpacked_sample_sha1','benign','malicious', 'packer_name']]"
   ]
  },
  {
   "cell_type": "code",
   "execution_count": 6,
   "metadata": {},
   "outputs": [
    {
     "data": {
      "text/plain": [
       "obsidium      48432\n",
       "themida-v2    42803\n",
       "petite        39495\n",
       "telock        35284\n",
       "pecompact     33956\n",
       "upx           30558\n",
       "mpress        22535\n",
       "kkrunchy      22305\n",
       "pelock        15353\n",
       "Name: packer_name, dtype: int64"
      ]
     },
     "execution_count": 6,
     "metadata": {},
     "output_type": "execute_result"
    }
   ],
   "source": [
    "df['packer_name'].value_counts()"
   ]
  },
  {
   "cell_type": "code",
   "execution_count": 7,
   "metadata": {},
   "outputs": [
    {
     "data": {
      "text/html": [
       "<div>\n",
       "<style scoped>\n",
       "    .dataframe tbody tr th:only-of-type {\n",
       "        vertical-align: middle;\n",
       "    }\n",
       "\n",
       "    .dataframe tbody tr th {\n",
       "        vertical-align: top;\n",
       "    }\n",
       "\n",
       "    .dataframe thead th {\n",
       "        text-align: right;\n",
       "    }\n",
       "</style>\n",
       "<table border=\"1\" class=\"dataframe\">\n",
       "  <thead>\n",
       "    <tr style=\"text-align: right;\">\n",
       "      <th></th>\n",
       "      <th>benign</th>\n",
       "      <th>malicious</th>\n",
       "    </tr>\n",
       "    <tr>\n",
       "      <th>packer_name</th>\n",
       "      <th></th>\n",
       "      <th></th>\n",
       "    </tr>\n",
       "  </thead>\n",
       "  <tbody>\n",
       "    <tr>\n",
       "      <th>kkrunchy</th>\n",
       "      <td>6811</td>\n",
       "      <td>15494</td>\n",
       "    </tr>\n",
       "    <tr>\n",
       "      <th>mpress</th>\n",
       "      <td>11041</td>\n",
       "      <td>11494</td>\n",
       "    </tr>\n",
       "    <tr>\n",
       "      <th>obsidium</th>\n",
       "      <td>16940</td>\n",
       "      <td>31492</td>\n",
       "    </tr>\n",
       "    <tr>\n",
       "      <th>pecompact</th>\n",
       "      <td>5610</td>\n",
       "      <td>28346</td>\n",
       "    </tr>\n",
       "    <tr>\n",
       "      <th>pelock</th>\n",
       "      <td>6879</td>\n",
       "      <td>8474</td>\n",
       "    </tr>\n",
       "    <tr>\n",
       "      <th>petite</th>\n",
       "      <td>13638</td>\n",
       "      <td>25857</td>\n",
       "    </tr>\n",
       "    <tr>\n",
       "      <th>telock</th>\n",
       "      <td>5235</td>\n",
       "      <td>30049</td>\n",
       "    </tr>\n",
       "    <tr>\n",
       "      <th>themida-v2</th>\n",
       "      <td>15895</td>\n",
       "      <td>26908</td>\n",
       "    </tr>\n",
       "    <tr>\n",
       "      <th>upx</th>\n",
       "      <td>9938</td>\n",
       "      <td>20620</td>\n",
       "    </tr>\n",
       "  </tbody>\n",
       "</table>\n",
       "</div>"
      ],
      "text/plain": [
       "             benign  malicious\n",
       "packer_name                   \n",
       "kkrunchy       6811      15494\n",
       "mpress        11041      11494\n",
       "obsidium      16940      31492\n",
       "pecompact      5610      28346\n",
       "pelock         6879       8474\n",
       "petite        13638      25857\n",
       "telock         5235      30049\n",
       "themida-v2    15895      26908\n",
       "upx            9938      20620"
      ]
     },
     "execution_count": 7,
     "metadata": {},
     "output_type": "execute_result"
    }
   ],
   "source": [
    "pd.DataFrame({'benign' : df.groupby(['packer_name'])['benign'].sum(), 'malicious' : df.groupby(['packer_name'])['malicious'].sum()})"
   ]
  },
  {
   "cell_type": "markdown",
   "metadata": {},
   "source": [
    "Let's now filter the dataset with all samples contained in the dataframe."
   ]
  },
  {
   "cell_type": "code",
   "execution_count": null,
   "metadata": {},
   "outputs": [],
   "source": [
    "from os import walk, remove, path\n",
    "from collections import defaultdict\n",
    "\n",
    "DATASET_PATH = \"\"\n",
    "DONE = True\n",
    "packed_files = [(dirpath, filenames) for (dirpath, dirnames, filenames) in walk(DATASET_PATH)]\n",
    "\n",
    "if not DONE:\n",
    "    packers_count = defaultdict(int)\n",
    "\n",
    "    for i in range(len(packed_files)):\n",
    "        packer_name = packed_files[i][0].split(\"/\")[-1]\n",
    "        packer_df = df[df['packer_name'] == packer_name]\n",
    "        sha_list = packer_df['unpacked_sample_sha1'].values\n",
    "\n",
    "        print(\"filtering \" + str(packer_name) + \"...\")\n",
    "        for j in range(len(packed_files[i][1])):\n",
    "            file_name = packed_files[i][1][j]\n",
    "            file_sha1 = (file_name.split(\"_\")[1]).split(\".\")[0]\n",
    "            if file_sha1 in sha_list:\n",
    "                packers_count[packer_name] += 1\n",
    "            else:\n",
    "                if path.exists(DATASET_PATH + packer_name + \"/\" + file_name):\n",
    "                    remove(DATASET_PATH + packer_name + \"/\" + file_name)\n",
    "                else:\n",
    "                    print(\"The file does not exist\")\n",
    "\n",
    "            "
   ]
  },
  {
   "cell_type": "markdown",
   "metadata": {},
   "source": [
    "Let's now perform an undersampling on the dataset"
   ]
  },
  {
   "cell_type": "code",
   "execution_count": 9,
   "metadata": {},
   "outputs": [],
   "source": [
    "# Let's use the same seed they used in \"packers classification\" task in the paper for reproducibility\n",
    "SEED = 17\n",
    "\n",
    "indices = []\n",
    "packers = df.packer_name.unique()\n",
    "cur_min = 100000\n",
    "for p in packers:\n",
    "    if p == 'none':\n",
    "        continue\n",
    "    dp = df[df.packer_name == p]\n",
    "    cur_min = min(cur_min, len(dp))\n",
    "\n",
    "for p in packers:\n",
    "    if p == 'none':\n",
    "        continue\n",
    "    dp = df[df.packer_name == p]\n",
    "    indices.extend(list(dp.sample(cur_min, random_state=SEED).index))\n",
    "\n",
    "df_balanced = df[df.index.isin(indices)]"
   ]
  },
  {
   "cell_type": "code",
   "execution_count": 10,
   "metadata": {},
   "outputs": [
    {
     "data": {
      "text/plain": [
       "themida-v2    15353\n",
       "obsidium      15353\n",
       "upx           15353\n",
       "kkrunchy      15353\n",
       "telock        15353\n",
       "petite        15353\n",
       "mpress        15353\n",
       "pecompact     15353\n",
       "pelock        15353\n",
       "Name: packer_name, dtype: int64"
      ]
     },
     "execution_count": 10,
     "metadata": {},
     "output_type": "execute_result"
    }
   ],
   "source": [
    "# To verify if we have effectively the same number of samples for each packer\n",
    "df_balanced['packer_name'].value_counts()"
   ]
  },
  {
   "cell_type": "code",
   "execution_count": 11,
   "metadata": {},
   "outputs": [
    {
     "data": {
      "text/plain": [
       "138177"
      ]
     },
     "execution_count": 11,
     "metadata": {},
     "output_type": "execute_result"
    }
   ],
   "source": [
    "len(df_balanced)"
   ]
  },
  {
   "cell_type": "code",
   "execution_count": 12,
   "metadata": {},
   "outputs": [
    {
     "data": {
      "text/html": [
       "<div>\n",
       "<style scoped>\n",
       "    .dataframe tbody tr th:only-of-type {\n",
       "        vertical-align: middle;\n",
       "    }\n",
       "\n",
       "    .dataframe tbody tr th {\n",
       "        vertical-align: top;\n",
       "    }\n",
       "\n",
       "    .dataframe thead th {\n",
       "        text-align: right;\n",
       "    }\n",
       "</style>\n",
       "<table border=\"1\" class=\"dataframe\">\n",
       "  <thead>\n",
       "    <tr style=\"text-align: right;\">\n",
       "      <th></th>\n",
       "      <th>benign</th>\n",
       "      <th>malicious</th>\n",
       "    </tr>\n",
       "    <tr>\n",
       "      <th>packer_name</th>\n",
       "      <th></th>\n",
       "      <th></th>\n",
       "    </tr>\n",
       "  </thead>\n",
       "  <tbody>\n",
       "    <tr>\n",
       "      <th>kkrunchy</th>\n",
       "      <td>4694</td>\n",
       "      <td>10659</td>\n",
       "    </tr>\n",
       "    <tr>\n",
       "      <th>mpress</th>\n",
       "      <td>7518</td>\n",
       "      <td>7835</td>\n",
       "    </tr>\n",
       "    <tr>\n",
       "      <th>obsidium</th>\n",
       "      <td>5337</td>\n",
       "      <td>10016</td>\n",
       "    </tr>\n",
       "    <tr>\n",
       "      <th>pecompact</th>\n",
       "      <td>2468</td>\n",
       "      <td>12885</td>\n",
       "    </tr>\n",
       "    <tr>\n",
       "      <th>pelock</th>\n",
       "      <td>6879</td>\n",
       "      <td>8474</td>\n",
       "    </tr>\n",
       "    <tr>\n",
       "      <th>petite</th>\n",
       "      <td>5267</td>\n",
       "      <td>10086</td>\n",
       "    </tr>\n",
       "    <tr>\n",
       "      <th>telock</th>\n",
       "      <td>2217</td>\n",
       "      <td>13136</td>\n",
       "    </tr>\n",
       "    <tr>\n",
       "      <th>themida-v2</th>\n",
       "      <td>5656</td>\n",
       "      <td>9697</td>\n",
       "    </tr>\n",
       "    <tr>\n",
       "      <th>upx</th>\n",
       "      <td>5016</td>\n",
       "      <td>10337</td>\n",
       "    </tr>\n",
       "  </tbody>\n",
       "</table>\n",
       "</div>"
      ],
      "text/plain": [
       "             benign  malicious\n",
       "packer_name                   \n",
       "kkrunchy       4694      10659\n",
       "mpress         7518       7835\n",
       "obsidium       5337      10016\n",
       "pecompact      2468      12885\n",
       "pelock         6879       8474\n",
       "petite         5267      10086\n",
       "telock         2217      13136\n",
       "themida-v2     5656       9697\n",
       "upx            5016      10337"
      ]
     },
     "execution_count": 12,
     "metadata": {},
     "output_type": "execute_result"
    }
   ],
   "source": [
    "pd.DataFrame({'benign' : df_balanced.groupby(['packer_name'])['benign'].sum(), 'malicious' : df_balanced.groupby(['packer_name'])['malicious'].sum()})"
   ]
  },
  {
   "cell_type": "markdown",
   "metadata": {},
   "source": [
    "Let's now select only the 10% of the dataset in order to speed up the results extraction."
   ]
  },
  {
   "cell_type": "code",
   "execution_count": 13,
   "metadata": {},
   "outputs": [],
   "source": [
    "df_balanced_sampled = df_balanced.groupby('packer_name', group_keys=False).apply(lambda x: x.sample(frac=0.1, random_state=SEED))"
   ]
  },
  {
   "cell_type": "code",
   "execution_count": 14,
   "metadata": {},
   "outputs": [
    {
     "data": {
      "text/plain": [
       "kkrunchy      1535\n",
       "mpress        1535\n",
       "obsidium      1535\n",
       "pecompact     1535\n",
       "pelock        1535\n",
       "petite        1535\n",
       "telock        1535\n",
       "themida-v2    1535\n",
       "upx           1535\n",
       "Name: packer_name, dtype: int64"
      ]
     },
     "execution_count": 14,
     "metadata": {},
     "output_type": "execute_result"
    }
   ],
   "source": [
    "df_balanced_sampled['packer_name'].value_counts()"
   ]
  },
  {
   "cell_type": "code",
   "execution_count": 15,
   "metadata": {},
   "outputs": [
    {
     "data": {
      "text/html": [
       "<div>\n",
       "<style scoped>\n",
       "    .dataframe tbody tr th:only-of-type {\n",
       "        vertical-align: middle;\n",
       "    }\n",
       "\n",
       "    .dataframe tbody tr th {\n",
       "        vertical-align: top;\n",
       "    }\n",
       "\n",
       "    .dataframe thead th {\n",
       "        text-align: right;\n",
       "    }\n",
       "</style>\n",
       "<table border=\"1\" class=\"dataframe\">\n",
       "  <thead>\n",
       "    <tr style=\"text-align: right;\">\n",
       "      <th></th>\n",
       "      <th>benign</th>\n",
       "      <th>malicious</th>\n",
       "    </tr>\n",
       "    <tr>\n",
       "      <th>packer_name</th>\n",
       "      <th></th>\n",
       "      <th></th>\n",
       "    </tr>\n",
       "  </thead>\n",
       "  <tbody>\n",
       "    <tr>\n",
       "      <th>kkrunchy</th>\n",
       "      <td>487</td>\n",
       "      <td>1048</td>\n",
       "    </tr>\n",
       "    <tr>\n",
       "      <th>mpress</th>\n",
       "      <td>760</td>\n",
       "      <td>775</td>\n",
       "    </tr>\n",
       "    <tr>\n",
       "      <th>obsidium</th>\n",
       "      <td>529</td>\n",
       "      <td>1006</td>\n",
       "    </tr>\n",
       "    <tr>\n",
       "      <th>pecompact</th>\n",
       "      <td>238</td>\n",
       "      <td>1297</td>\n",
       "    </tr>\n",
       "    <tr>\n",
       "      <th>pelock</th>\n",
       "      <td>716</td>\n",
       "      <td>819</td>\n",
       "    </tr>\n",
       "    <tr>\n",
       "      <th>petite</th>\n",
       "      <td>509</td>\n",
       "      <td>1026</td>\n",
       "    </tr>\n",
       "    <tr>\n",
       "      <th>telock</th>\n",
       "      <td>205</td>\n",
       "      <td>1330</td>\n",
       "    </tr>\n",
       "    <tr>\n",
       "      <th>themida-v2</th>\n",
       "      <td>564</td>\n",
       "      <td>971</td>\n",
       "    </tr>\n",
       "    <tr>\n",
       "      <th>upx</th>\n",
       "      <td>501</td>\n",
       "      <td>1034</td>\n",
       "    </tr>\n",
       "  </tbody>\n",
       "</table>\n",
       "</div>"
      ],
      "text/plain": [
       "             benign  malicious\n",
       "packer_name                   \n",
       "kkrunchy        487       1048\n",
       "mpress          760        775\n",
       "obsidium        529       1006\n",
       "pecompact       238       1297\n",
       "pelock          716        819\n",
       "petite          509       1026\n",
       "telock          205       1330\n",
       "themida-v2      564        971\n",
       "upx             501       1034"
      ]
     },
     "execution_count": 15,
     "metadata": {},
     "output_type": "execute_result"
    }
   ],
   "source": [
    "pd.DataFrame({'benign' : df_balanced_sampled.groupby(['packer_name'])['benign'].sum(), 'malicious' : df_balanced_sampled.groupby(['packer_name'])['malicious'].sum()})"
   ]
  }
 ],
 "metadata": {
  "kernelspec": {
   "display_name": "Python 3",
   "language": "python",
   "name": "python3"
  },
  "language_info": {
   "codemirror_mode": {
    "name": "ipython",
    "version": 3
   },
   "file_extension": ".py",
   "mimetype": "text/x-python",
   "name": "python",
   "nbconvert_exporter": "python",
   "pygments_lexer": "ipython3",
   "version": "3.10.11"
  },
  "orig_nbformat": 4
 },
 "nbformat": 4,
 "nbformat_minor": 2
}
